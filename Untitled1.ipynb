{
  "nbformat": 4,
  "nbformat_minor": 0,
  "metadata": {
    "colab": {
      "provenance": [],
      "authorship_tag": "ABX9TyMDNICweYVQMgnoMh4R3Crs",
      "include_colab_link": true
    },
    "kernelspec": {
      "name": "python3",
      "display_name": "Python 3"
    },
    "language_info": {
      "name": "python"
    }
  },
  "cells": [
    {
      "cell_type": "markdown",
      "metadata": {
        "id": "view-in-github",
        "colab_type": "text"
      },
      "source": [
        "<a href=\"https://colab.research.google.com/github/Yash-Dangi/Chat_Room/blob/main/Untitled1.ipynb\" target=\"_parent\"><img src=\"https://colab.research.google.com/assets/colab-badge.svg\" alt=\"Open In Colab\"/></a>"
      ]
    },
    {
      "cell_type": "code",
      "execution_count": null,
      "metadata": {
        "id": "CfZbkTG19YEO"
      },
      "outputs": [],
      "source": [
        "!pip install pact-python"
      ]
    },
    {
      "cell_type": "code",
      "source": [
        "from pact import Consumer, Provider, Verifier, Term, Like"
      ],
      "metadata": {
        "id": "E1KthpLI98gt"
      },
      "execution_count": null,
      "outputs": []
    },
    {
      "cell_type": "code",
      "source": [
        "consumer = Consumer('Dashboard').has_pact_with(Provider='EmployeeService')"
      ],
      "metadata": {
        "id": "YSsJE0ua9_KE"
      },
      "execution_count": null,
      "outputs": []
    },
    {
      "cell_type": "code",
      "source": [
        "(\n",
        "    consumer\n",
        "    .given('Employees exist')\n",
        "    .upon_receiving('A GET request to retrieve all employees')\n",
        "    .with_request('GET', '/employees')\n",
        "    .will_respond_with(200, body=Like({\n",
        "        'employees': [\n",
        "            {'name': Like('John'), 'age': Like(30), 'department': Like('IT')},\n",
        "\n",
        "        ]\n",
        "    }))\n",
        ")"
      ],
      "metadata": {
        "id": "ipdN_TM0-gX6"
      },
      "execution_count": null,
      "outputs": []
    },
    {
      "cell_type": "code",
      "source": [
        "(\n",
        "    consumer\n",
        "    .given('name, age, department')\n",
        "    .upon_receiving('A POST request to create a new employee')\n",
        "    .with_request('POST', '/employees')\n",
        "    .with_request_headers({'Content-Type': 'application/json'})\n",
        "    .with_request_body({\n",
        "        'name': Like('Alice'),\n",
        "        'age': Like(25),\n",
        "        'department': Like('HR')\n",
        "    })\n",
        "    .will_respond_with(201, body=Like({\"Employee\": {'id': 1, 'name': 'Alice', 'age': 25, 'department': 'HR'}}))\n",
        ")"
      ],
      "metadata": {
        "id": "ZVuzWZmq-vML"
      },
      "execution_count": null,
      "outputs": []
    },
    {
      "cell_type": "code",
      "source": [
        "(\n",
        "    consumer\n",
        "    .given('An employee with ID exists')\n",
        "    .upon_receiving('A GET request to retrieve an employee by ID')\n",
        "    .with_request('GET', '/employees/1')\n",
        "    .will_respond_with(200, body=Like({\"Employee\": {'id': 1, 'name': 'Alice', 'age': 25, 'department': 'HR'}}))\n",
        ")"
      ],
      "metadata": {
        "id": "cDWZ5l_2-6wD"
      },
      "execution_count": null,
      "outputs": []
    },
    {
      "cell_type": "code",
      "source": [
        "(\n",
        "    consumer\n",
        "    .given('An employee with ID exists')\n",
        "    .upon_receiving('A PUT request to update an existing employee')\n",
        "    .with_request('PUT', '/employee/1')\n",
        "    .with_request_headers({'Content-Type': 'application/json'})\n",
        "    .with_request_body({\n",
        "        'name': Like('Updated John')\n",
        "    })\n",
        "    .will_respond_with(200, body=Like({'message': 'Employee updated successfully'}))\n",
        ")"
      ],
      "metadata": {
        "id": "cxd6KhlW-7iX"
      },
      "execution_count": null,
      "outputs": []
    },
    {
      "cell_type": "code",
      "source": [
        "provider = Provider('EmployeeService')\n",
        "\n",
        "\n",
        "(\n",
        "    provider\n",
        "    .upon_receiving('A GET request to retrieve all employees')\n",
        "    .with_request('GET', '/employees')\n",
        "    .will_respond_with(200, body=Like({\n",
        "        'employees': [\n",
        "            {'name': Like('John'), 'age': Like(30), 'department': Like('IT')},\n",
        "\n",
        "        ]\n",
        "    }))\n",
        ")\n",
        "\n",
        "\n",
        "(\n",
        "    provider\n",
        "    .upon_receiving('A POST request to create a new employee')\n",
        "    .with_request('POST', '/employees')\n",
        "    .with_request_headers({'Content-Type': 'application/json'})\n",
        "    .with_request_body({\n",
        "        'name': Like('Alice'),\n",
        "        'age': Like(25),\n",
        "        'department': Like('HR')\n",
        "    })\n",
        "    .will_respond_with(201, body=Like({'id': 1}))\n",
        ")\n",
        "\n",
        "(\n",
        "    provider\n",
        "    .upon_receiving('A GET request to retrieve an employee by ID')\n",
        "    .with_request('GET', '/employees/1')\n",
        "    .will_respond_with(200, body=Like({\n",
        "        'name': Like('John'), 'age': Like(30), 'department': Like('IT')\n",
        "    }))\n",
        ")\n",
        "\n",
        "(\n",
        "    provider\n",
        "    .upon_receiving('A PUT request to update an existing employee')\n",
        "    .with_request('PUT', '/employee/1')\n",
        "    .with_request_headers({'Content-Type': 'application/json'})\n",
        "    .with_request_body({\n",
        "        'name': Like('Updated John'),\n",
        "        'age': Like(31),\n",
        "        'department': Like('IT')\n",
        "    })\n",
        "    .will_respond_with(200, body=Like({'message': 'Employee updated successfully'}))\n",
        ")\n",
        "\n",
        "\n",
        "verifier = Verifier(provider='EmployeeService', consumer='Dashboard')\n",
        "verifier.verify()"
      ],
      "metadata": {
        "id": "TgEP7lWY_HPG"
      },
      "execution_count": null,
      "outputs": []
    },
    {
      "cell_type": "code",
      "source": [],
      "metadata": {
        "id": "7wCq6lwo_S7z"
      },
      "execution_count": null,
      "outputs": []
    }
  ]
}